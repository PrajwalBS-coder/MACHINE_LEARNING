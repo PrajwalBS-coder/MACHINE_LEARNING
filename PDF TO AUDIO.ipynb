{
 "cells": [
  {
   "cell_type": "code",
   "execution_count": 1,
   "id": "0ec4b79c-c4b2-4807-8965-02135eaef05e",
   "metadata": {},
   "outputs": [],
   "source": [
    "import pyttsx3\n",
    "engine = pyttsx3.init()\n",
    "engine.say(\"Testing text to speech.\")\n",
    "engine.runAndWait()"
   ]
  },
  {
   "cell_type": "code",
   "execution_count": 5,
   "id": "a732ec94-7235-4ef4-94cf-2532f9d76f1e",
   "metadata": {},
   "outputs": [
    {
     "name": "stdout",
     "output_type": "stream",
     "text": [
      "Total pages: 1\n"
     ]
    },
    {
     "ename": "KeyboardInterrupt",
     "evalue": "",
     "output_type": "error",
     "traceback": [
      "\u001b[1;31m---------------------------------------------------------------------------\u001b[0m",
      "\u001b[1;31mKeyboardInterrupt\u001b[0m                         Traceback (most recent call last)",
      "Cell \u001b[1;32mIn[5], line 23\u001b[0m\n\u001b[0;32m     21\u001b[0m speak \u001b[38;5;241m=\u001b[39m pyttsx3\u001b[38;5;241m.\u001b[39minit()\n\u001b[0;32m     22\u001b[0m speak\u001b[38;5;241m.\u001b[39msay(text)\n\u001b[1;32m---> 23\u001b[0m speak\u001b[38;5;241m.\u001b[39mrunAndWait()\n\u001b[0;32m     24\u001b[0m path\u001b[38;5;241m.\u001b[39mclose()\n",
      "File \u001b[1;32m~\\anaconda3\\Lib\\site-packages\\pyttsx3\\engine.py:183\u001b[0m, in \u001b[0;36mEngine.runAndWait\u001b[1;34m(self)\u001b[0m\n\u001b[0;32m    181\u001b[0m \u001b[38;5;28mself\u001b[39m\u001b[38;5;241m.\u001b[39m_inLoop \u001b[38;5;241m=\u001b[39m \u001b[38;5;28;01mTrue\u001b[39;00m\n\u001b[0;32m    182\u001b[0m \u001b[38;5;28mself\u001b[39m\u001b[38;5;241m.\u001b[39m_driverLoop \u001b[38;5;241m=\u001b[39m \u001b[38;5;28;01mTrue\u001b[39;00m\n\u001b[1;32m--> 183\u001b[0m \u001b[38;5;28mself\u001b[39m\u001b[38;5;241m.\u001b[39mproxy\u001b[38;5;241m.\u001b[39mrunAndWait()\n",
      "File \u001b[1;32m~\\anaconda3\\Lib\\site-packages\\pyttsx3\\driver.py:195\u001b[0m, in \u001b[0;36mDriverProxy.runAndWait\u001b[1;34m(self)\u001b[0m\n\u001b[0;32m    190\u001b[0m \u001b[38;5;250m\u001b[39m\u001b[38;5;124;03m'''\u001b[39;00m\n\u001b[0;32m    191\u001b[0m \u001b[38;5;124;03mCalled by the engine to start an event loop, process all commands in\u001b[39;00m\n\u001b[0;32m    192\u001b[0m \u001b[38;5;124;03mthe queue at the start of the loop, and then exit the loop.\u001b[39;00m\n\u001b[0;32m    193\u001b[0m \u001b[38;5;124;03m'''\u001b[39;00m\n\u001b[0;32m    194\u001b[0m \u001b[38;5;28mself\u001b[39m\u001b[38;5;241m.\u001b[39m_push(\u001b[38;5;28mself\u001b[39m\u001b[38;5;241m.\u001b[39m_engine\u001b[38;5;241m.\u001b[39mendLoop, \u001b[38;5;28mtuple\u001b[39m())\n\u001b[1;32m--> 195\u001b[0m \u001b[38;5;28mself\u001b[39m\u001b[38;5;241m.\u001b[39m_driver\u001b[38;5;241m.\u001b[39mstartLoop()\n",
      "File \u001b[1;32m~\\anaconda3\\Lib\\site-packages\\pyttsx3\\drivers\\sapi5.py:146\u001b[0m, in \u001b[0;36mSAPI5Driver.startLoop\u001b[1;34m(self)\u001b[0m\n\u001b[0;32m    144\u001b[0m     first \u001b[38;5;241m=\u001b[39m \u001b[38;5;28;01mFalse\u001b[39;00m\n\u001b[0;32m    145\u001b[0m pythoncom\u001b[38;5;241m.\u001b[39mPumpWaitingMessages()\n\u001b[1;32m--> 146\u001b[0m time\u001b[38;5;241m.\u001b[39msleep(\u001b[38;5;241m0.05\u001b[39m)\n",
      "\u001b[1;31mKeyboardInterrupt\u001b[0m: "
     ]
    }
   ],
   "source": [
    "import PyPDF2\n",
    "import pyttsx3\n",
    "\n",
    "# path of the PDF file\n",
    "path = open('exmp.pdf', 'rb')\n",
    "\n",
    "# creating a PdfReader object\n",
    "pdfReader = PyPDF2.PdfReader(path)\n",
    "\n",
    "# Check total pages\n",
    "total_pages = len(pdfReader.pages)\n",
    "print(f'Total pages: {total_pages}')\n",
    "\n",
    "# Getting the 5th page (page 4 index)\n",
    "from_page = pdfReader.pages[0]\n",
    "\n",
    "# Extracting the text from the PDF\n",
    "text = from_page.extract_text()\n",
    "\n",
    "# Reading the text with pyttsx3\n",
    "speak = pyttsx3.init()\n",
    "speak.say(text)\n",
    "speak.runAndWait()\n",
    "path.close()"
   ]
  },
  {
   "cell_type": "code",
   "execution_count": 9,
   "id": "a0cb5a06-f611-4cb9-96cf-468b48dc1662",
   "metadata": {},
   "outputs": [
    {
     "name": "stdout",
     "output_type": "stream",
     "text": [
      "Audio saved as output.mp3\n"
     ]
    }
   ],
   "source": [
    "import PyPDF2\n",
    "import pyttsx3\n",
    "from pydub import AudioSegment\n",
    "from pydub.playback import play\n",
    "import tempfile\n",
    "import os\n",
    "\n",
    "# Open the PDF with PyPDF2\n",
    "with open('Go Lang.pdf', 'rb') as path:\n",
    "    pdfReader = PyPDF2.PdfReader(path)\n",
    "    from_page = pdfReader.pages[40]  # Get the 5th page\n",
    "    text = from_page.extract_text()  # Extract text\n",
    "\n",
    "# Initialize pyttsx3\n",
    "speak = pyttsx3.init()\n",
    "speak.save_to_file(text,\"output1.mp3\")\n",
    "speak.runAndWait()\n",
    "# # Save the speech to a temporary file\n",
    "# with tempfile.NamedTemporaryFile(delete=False, suffix=\".wav\") as temp_audio_file:\n",
    "#     speak.save_to_file(text, temp_audio_file.name)\n",
    "#     speak.runAndWait()\n",
    "\n",
    "# # # Convert and save the file using pydub (if needed)\n",
    "# # output_audio = \"output.mp3\"\n",
    "# sound = AudioSegment.from_wav(temp_audio_file.name)\n",
    "# sound.export(output_audio, format=\"mp3\")\n",
    "\n",
    "# # # Cleanup: remove temporary audio file\n",
    "# os.remove(temp_audio_file.name)\n",
    "\n",
    "print(f\"Audio saved as {output_audio}\")\n"
   ]
  },
  {
   "cell_type": "code",
   "execution_count": 9,
   "id": "44edcd2d-8747-422e-866d-69228433439a",
   "metadata": {},
   "outputs": [
    {
     "name": "stdout",
     "output_type": "stream",
     "text": [
      "Collecting pydub\n",
      "  Downloading pydub-0.25.1-py2.py3-none-any.whl.metadata (1.4 kB)\n",
      "Downloading pydub-0.25.1-py2.py3-none-any.whl (32 kB)\n",
      "Installing collected packages: pydub\n",
      "Successfully installed pydub-0.25.1\n",
      "Note: you may need to restart the kernel to use updated packages.\n"
     ]
    }
   ],
   "source": [
    "pip install pydub"
   ]
  },
  {
   "cell_type": "code",
   "execution_count": null,
   "id": "14d75dad-0c83-4196-9dd2-cd9b63a85aee",
   "metadata": {},
   "outputs": [],
   "source": []
  }
 ],
 "metadata": {
  "kernelspec": {
   "display_name": "Python 3 (ipykernel)",
   "language": "python",
   "name": "python3"
  },
  "language_info": {
   "codemirror_mode": {
    "name": "ipython",
    "version": 3
   },
   "file_extension": ".py",
   "mimetype": "text/x-python",
   "name": "python",
   "nbconvert_exporter": "python",
   "pygments_lexer": "ipython3",
   "version": "3.12.4"
  }
 },
 "nbformat": 4,
 "nbformat_minor": 5
}
